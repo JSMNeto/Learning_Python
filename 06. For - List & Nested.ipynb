{
 "cells": [
  {
   "cell_type": "code",
   "execution_count": 21,
   "id": "c3ede52f-d813-4bab-a396-ea491303c97c",
   "metadata": {},
   "outputs": [
    {
     "name": "stdout",
     "output_type": "stream",
     "text": [
      "A\n",
      "B\n",
      "C\n",
      "\n",
      "Apple\n",
      "Orange\n",
      "Banana\n",
      "\n"
     ]
    },
    {
     "name": "stdin",
     "output_type": "stream",
     "text": [
      "Type a number: 3\n"
     ]
    },
    {
     "name": "stdout",
     "output_type": "stream",
     "text": [
      "1\n",
      "2\n",
      "3\n"
     ]
    }
   ],
   "source": [
    "# Exemplo 01 - For Utilizando Strings / Lista\n",
    "#loop for para iterar sobre uma lista de caracteres alfabéticos, \n",
    "#imprimindo cada item da lista até encontrar o caractere \"C\"\n",
    "\n",
    "list = [\"A\", \"B\", \"C\", \"D\", \"E\"]\n",
    "\n",
    "for items in list:\n",
    "    \n",
    "    print (items)\n",
    "    \n",
    "    if items == \"C\":\n",
    "        break \n",
    "\n",
    "print()\n",
    "\n",
    "# Exemplo 02\n",
    "\n",
    "fruits = [\"Apple\", \"Orange\", \"Banana\"]\n",
    "for fruits in fruits:\n",
    "    print(fruits)\n",
    "\n",
    "print()\n",
    "\n",
    "# Exemplo 03\n",
    "\n",
    "numbers = int(input(\"Type a number:\"))\n",
    "for i in range (1, numbers + 1):\n",
    "    print(i)"
   ]
  },
  {
   "cell_type": "code",
   "execution_count": null,
   "id": "3a7a790f-9d4b-48f9-940e-dbb62e580183",
   "metadata": {},
   "outputs": [],
   "source": []
  },
  {
   "cell_type": "code",
   "execution_count": 34,
   "id": "f52adf40-3892-4300-ae3e-9e8e85e13460",
   "metadata": {},
   "outputs": [
    {
     "name": "stdout",
     "output_type": "stream",
     "text": [
      "1 is ODD\n",
      "2 is EVEN\n",
      "3 is ODD\n",
      "4 is EVEN\n",
      "5 is ODD\n",
      "6 is EVEN\n",
      "7 is ODD\n",
      "8 is EVEN\n",
      "9 is ODD\n",
      "10 is EVEN\n"
     ]
    }
   ],
   "source": [
    "# Exemplo 04 - For utilizando If and Else\n",
    "\n",
    "numeros = [1,2,3,4,5,6,7,8,9,10]\n",
    "for numero in numeros:\n",
    "    if numero % 2 == 0:\n",
    "        print (numero, \"is EVEN\")\n",
    "\n",
    "    else:\n",
    "        print(numero, \"is ODD\")"
   ]
  },
  {
   "cell_type": "code",
   "execution_count": null,
   "id": "7b28d674-56ac-4ee1-a801-6b2cb6282a6f",
   "metadata": {},
   "outputs": [],
   "source": []
  },
  {
   "cell_type": "code",
   "execution_count": 52,
   "id": "fc1b2c01-80a6-4ca9-9659-811f52b6d1a0",
   "metadata": {},
   "outputs": [
    {
     "name": "stdout",
     "output_type": "stream",
     "text": [
      "Eu preciso comprar Arroz\n",
      "Eu preciso comprar Feijão\n",
      "Eu preciso comprar Salada\n",
      "Eu preciso comprar Manteiga\n",
      "Eu preciso comprar Ovos\n",
      "Eu preciso comprar Frutas\n",
      "Eu preciso comprar Carnes\n",
      "Eu preciso comprar Peixes\n"
     ]
    }
   ],
   "source": [
    "# Exercício de fixação 01 - Lista de Compras\n",
    "\n",
    "lista_compras = [\"Arroz\", \"Feijão\", \"Salada\", \"Manteiga\", \"Ovos\", \"Frutas\", \"Carnes\", \"Peixes\"]\n",
    "for lista in lista_compras:\n",
    "    print(\"Eu preciso comprar\", lista)"
   ]
  },
  {
   "cell_type": "code",
   "execution_count": null,
   "id": "6794be13-438d-4279-a5a1-cd0894001cd3",
   "metadata": {},
   "outputs": [],
   "source": []
  },
  {
   "cell_type": "code",
   "execution_count": 66,
   "id": "c9fe089b-4f15-49da-b217-55dcb9e849a3",
   "metadata": {},
   "outputs": [
    {
     "name": "stdout",
     "output_type": "stream",
     "text": [
      "*****\n",
      "****\n",
      "***\n",
      "**\n",
      "*\n"
     ]
    }
   ],
   "source": [
    "# Exercício de fixação 02 - Estrelas Descendentes\n",
    "\n",
    "for i in range (5, 0, -1):\n",
    "    print (\"*\" * i)"
   ]
  },
  {
   "cell_type": "code",
   "execution_count": 68,
   "id": "08698333-400f-4320-a2bf-7d343b5ce781",
   "metadata": {},
   "outputs": [],
   "source": []
  },
  {
   "cell_type": "code",
   "execution_count": 106,
   "id": "2ca09456-d254-463f-8073-86d0723c56a0",
   "metadata": {},
   "outputs": [
    {
     "name": "stdout",
     "output_type": "stream",
     "text": [
      "casa\n",
      "carro\n",
      "mistura\n",
      "salmao\n",
      "colher\n"
     ]
    }
   ],
   "source": [
    "# Exercício de fixação 03 - Palavras com Mais de 4 Letras\n",
    "\n",
    "lista = [\"casa\", \"carro\", \"mar\", \"mistura\", \"salmao\", \"sal\", \"rio\", \"giz\", \"colher\"]\n",
    "\n",
    "for palavras in lista:\n",
    "    if len(palavras) >= 4:\n",
    "        print(palavras)"
   ]
  },
  {
   "cell_type": "code",
   "execution_count": null,
   "id": "d336c208-7e97-4efd-b43d-4b17db7d0e9d",
   "metadata": {},
   "outputs": [],
   "source": []
  },
  {
   "cell_type": "code",
   "execution_count": 113,
   "id": "a6bdfaf7-080e-4471-900e-5f7bb0902312",
   "metadata": {},
   "outputs": [
    {
     "name": "stdout",
     "output_type": "stream",
     "text": [
      "1 x 1 = 1\n",
      "1 x 2 = 2\n",
      "1 x 3 = 3\n",
      "2 x 1 = 2\n",
      "2 x 2 = 4\n",
      "2 x 3 = 6\n",
      "3 x 1 = 3\n",
      "3 x 2 = 6\n",
      "3 x 3 = 9\n"
     ]
    }
   ],
   "source": [
    "#For Nested loops\n",
    "# Exemplo 01 - Loop aninhado\n",
    "\n",
    "for linha in range (1, 4):\n",
    "    \n",
    "    for coluna in range (1, 4):\n",
    "        \n",
    "        print ( linha , \"x\" , coluna , \"=\" , linha * coluna )\n"
   ]
  },
  {
   "cell_type": "code",
   "execution_count": null,
   "id": "40a2ea20-c089-4c23-8432-e653f17c58f2",
   "metadata": {},
   "outputs": [],
   "source": []
  },
  {
   "cell_type": "code",
   "execution_count": 211,
   "id": "d4c0039a-268e-4265-ae5b-f11bbad400cc",
   "metadata": {},
   "outputs": [
    {
     "name": "stdout",
     "output_type": "stream",
     "text": [
      "[1, 9, 25, 49, 81]\n",
      "[0, 4, 16, 36, 64]\n",
      "\n",
      "[1, 9, 25, 49, 81]\n"
     ]
    }
   ],
   "source": [
    "# Exmplo 02\n",
    "\n",
    "quadrados_impares = [x**2 for x in range (10) if x % 2 != 0]\n",
    "quadrados_pares = [x**2 for x in range (10) if x % 2 == 0]\n",
    "print(quadrados_impares)\n",
    "print(quadrados_pares)\n",
    "\n",
    "print()\n",
    "\n",
    "# É o mesmo que:\n",
    "\n",
    "quadrados_impares = []\n",
    "for x in range (10):\n",
    "    if x % 2 != 0:\n",
    "        quadrados_impares.append(x**2)\n",
    "\n",
    "print (quadrados_impares)"
   ]
  },
  {
   "cell_type": "code",
   "execution_count": null,
   "id": "801988b3-2076-4ec1-9296-b380b48eae6c",
   "metadata": {},
   "outputs": [],
   "source": []
  },
  {
   "cell_type": "code",
   "execution_count": 209,
   "id": "458842c6-f6c1-4a4f-a3ea-1586809024ab",
   "metadata": {},
   "outputs": [
    {
     "name": "stdout",
     "output_type": "stream",
     "text": [
      "['H', 'l', 'l', ' ', 'W', 'r', 'l', 'd', '!']\n",
      "\n",
      "['H', 'l', 'l', ' ', 'W', 'r', 'l', 'd', '!']\n"
     ]
    }
   ],
   "source": [
    "# Exemplo 03\n",
    "# Criando lista sem vogais\n",
    "\n",
    "texto = \"Hello World!\"\n",
    "\n",
    "consoantes = [char for char in texto if char.lower() not in \"aeiou\"]\n",
    "\n",
    "print (consoantes)\n",
    "\n",
    "print()\n",
    "\n",
    "# É o mesmo que:\n",
    "\n",
    "texto = \"Hello World!\"\n",
    "consoantes = []\n",
    "\n",
    "for char in texto:\n",
    "    if char.lower() not in \"aeiou\":\n",
    "        consoantes.append(char)\n",
    "\n",
    "print (consoantes)"
   ]
  },
  {
   "cell_type": "code",
   "execution_count": null,
   "id": "82b632ab-187b-4d00-ad54-e53cd50267da",
   "metadata": {},
   "outputs": [],
   "source": []
  },
  {
   "cell_type": "code",
   "execution_count": 225,
   "id": "4cdea5f7-b2dd-4dc4-bd6f-d8c579f6cddf",
   "metadata": {},
   "outputs": [
    {
     "name": "stdin",
     "output_type": "stream",
     "text": [
      "Digite um número inteiro não negativo: 4\n"
     ]
    },
    {
     "name": "stdout",
     "output_type": "stream",
     "text": [
      "O fatorial de 4 é: 24\n"
     ]
    },
    {
     "name": "stdin",
     "output_type": "stream",
     "text": [
      "Digite um número inteiro não negativo: 4\n"
     ]
    },
    {
     "name": "stdout",
     "output_type": "stream",
     "text": [
      "1 = 2 = 3 = 4 = "
     ]
    }
   ],
   "source": [
    "# Exercício de Fixação 04\n",
    "# Crie um programa em Python que solicite ao usuário que digite um número inteiro não negativo. \n",
    "# Em seguida, calcule e exiba o fatorial desse número.\n",
    "\n",
    "numero = int(input(\"Digite um número inteiro não negativo:\"))\n",
    "if numero < 0:\n",
    "    print (\"O numero deve ser maior que 0.\")\n",
    "\n",
    "else:\n",
    "    fatorial = 1\n",
    "    for i in range (1, numero + 1):\n",
    "        fatorial *= i\n",
    "\n",
    "    print(\"O fatorial de\", numero, \"é:\", fatorial)"
   ]
  },
  {
   "cell_type": "code",
   "execution_count": 20,
   "id": "5ea2749f-0ba6-4147-be72-d291043c976c",
   "metadata": {},
   "outputs": [
    {
     "name": "stdin",
     "output_type": "stream",
     "text": [
      "Digite um número inteiro não negativo: 10\n"
     ]
    },
    {
     "name": "stdout",
     "output_type": "stream",
     "text": [
      "1 = 1 = 1\n",
      "2 = 1 * 2 = 2\n",
      "3 = 1 * 2 * 3 = 6\n",
      "4 = 1 * 2 * 3 * 4 = 24\n",
      "5 = 1 * 2 * 3 * 4 * 5 = 120\n",
      "6 = 1 * 2 * 3 * 4 * 5 * 6 = 720\n",
      "7 = 1 * 2 * 3 * 4 * 5 * 6 * 7 = 5040\n",
      "8 = 1 * 2 * 3 * 4 * 5 * 6 * 7 * 8 = 40320\n",
      "9 = 1 * 2 * 3 * 4 * 5 * 6 * 7 * 8 * 9 = 362880\n",
      "10 = 1 * 2 * 3 * 4 * 5 * 6 * 7 * 8 * 9 * 10 = 3628800\n"
     ]
    }
   ],
   "source": [
    "# Também podemos fazer:\n",
    "\n",
    "fatorial = 1\n",
    "\n",
    "numero = int(input(\"Digite um número inteiro não negativo:\"))\n",
    "for multiplicador in range (1, numero +1):\n",
    "    fatorial *= multiplicador\n",
    "    \n",
    "    print (f\"{multiplicador} =\", end=\" \")\n",
    "\n",
    "    for i in range (1, multiplicador +1 ):\n",
    "        print (i, end=\" \")\n",
    "\n",
    "        if i != multiplicador:\n",
    "            print (\"*\", end=\" \")\n",
    "\n",
    "    print (\"=\", fatorial)\n",
    "     \n"
   ]
  },
  {
   "cell_type": "code",
   "execution_count": null,
   "id": "cb6ef55c-abad-420f-af98-7cd143382d87",
   "metadata": {},
   "outputs": [],
   "source": []
  },
  {
   "cell_type": "code",
   "execution_count": 140,
   "id": "20c59dc9-bd11-4d75-b82f-619266a02d60",
   "metadata": {},
   "outputs": [
    {
     "name": "stdout",
     "output_type": "stream",
     "text": [
      "* * * * * * \n",
      "* * * * * * \n",
      "* * * * * * \n",
      "* * * * * * \n",
      "* * * * * * \n",
      "* * * * * * \n"
     ]
    }
   ],
   "source": [
    "# Exercício - Criando um retângulo usando For\n",
    "\n",
    "altura = 5+1\n",
    "largura = 6\n",
    "\n",
    "for i in range (altura):\n",
    "    for j in range (largura):\n",
    "        print(\"*\", end = \" \")\n",
    "\n",
    "    print ()"
   ]
  },
  {
   "cell_type": "code",
   "execution_count": null,
   "id": "2f8c03fb-ee79-414a-8308-68e00a9d7089",
   "metadata": {},
   "outputs": [],
   "source": []
  },
  {
   "cell_type": "code",
   "execution_count": 219,
   "id": "0c6a9407-d098-419b-b8bf-b38be65488ec",
   "metadata": {},
   "outputs": [
    {
     "name": "stdout",
     "output_type": "stream",
     "text": [
      "         *\n",
      "        ***\n",
      "       *****\n",
      "      *******\n",
      "     *********\n",
      "    ***********\n",
      "   *************\n",
      "  ***************\n",
      " *****************\n",
      "*******************\n"
     ]
    }
   ],
   "source": [
    "# Exercício - Criando um triângulo usando For\n",
    "\n",
    "altura = 10\n",
    "\n",
    "for i in range (altura):\n",
    "\n",
    "    espacos = altura - i - 1\n",
    "\n",
    "    asteriscos = 2 * i + 1\n",
    "\n",
    "    print (\" \" * espacos + \"*\" * asteriscos)"
   ]
  }
 ],
 "metadata": {
  "kernelspec": {
   "display_name": "Python 3 (ipykernel)",
   "language": "python",
   "name": "python3"
  },
  "language_info": {
   "codemirror_mode": {
    "name": "ipython",
    "version": 3
   },
   "file_extension": ".py",
   "mimetype": "text/x-python",
   "name": "python",
   "nbconvert_exporter": "python",
   "pygments_lexer": "ipython3",
   "version": "3.12.4"
  }
 },
 "nbformat": 4,
 "nbformat_minor": 5
}
