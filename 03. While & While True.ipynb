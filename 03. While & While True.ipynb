{
 "cells": [
  {
   "cell_type": "code",
   "execution_count": 5,
   "id": "d7d15aeb-5f82-40a5-b375-218f6a6011b5",
   "metadata": {
    "scrolled": true
   },
   "outputs": [
    {
     "name": "stdout",
     "output_type": "stream",
     "text": [
      "1\n",
      "2\n",
      "3\n",
      "4\n",
      "5\n",
      "\n",
      "10\n",
      "7\n",
      "4\n",
      "1\n"
     ]
    }
   ],
   "source": [
    "# While cria a função Loop - Repete um bloco de código enquanto uma determinada condição for verdadeira\n",
    "\n",
    "# Exemplo 01\n",
    "\n",
    "numero = 1\n",
    "\n",
    "while numero <= 5:\n",
    "    print(numero)\n",
    "    numero += 1\n",
    "\n",
    "print()\n",
    "\n",
    "# Contador reverso\n",
    "# Exemplo 02\n",
    "\n",
    "contador = 10\n",
    "\n",
    "while contador >= 1:\n",
    "    print (contador)\n",
    "    contador -= 3"
   ]
  },
  {
   "cell_type": "code",
   "execution_count": 32,
   "id": "7f5d431e-ce65-441c-8269-034d75bc60ef",
   "metadata": {},
   "outputs": [
    {
     "name": "stdout",
     "output_type": "stream",
     "text": [
      "Número: 1\n",
      "Número: 2\n",
      "Número: 3\n",
      "Número: 4\n",
      "Número: 5\n",
      "Número: 6\n",
      "Número: 7\n",
      "Número: 8\n",
      "Número: 9\n",
      "Número: 10\n",
      "Fim da lista de contagem.\n"
     ]
    }
   ],
   "source": [
    "# Exemplo 03\n",
    "\n",
    "contador = 1\n",
    "\n",
    "while contador <= 10:\n",
    "    print(\"Número:\", contador)\n",
    "    contador += 1\n",
    "\n",
    "else:\n",
    "    print (\"Fim da lista de contagem.\")"
   ]
  },
  {
   "cell_type": "code",
   "execution_count": 15,
   "id": "d65edd43-a15b-4962-a01c-3e4a9270f111",
   "metadata": {},
   "outputs": [
    {
     "name": "stdout",
     "output_type": "stream",
     "text": [
      "1\n",
      "2\n",
      "3\n",
      "4\n",
      "5\n"
     ]
    }
   ],
   "source": [
    "# Exemplo 04\n",
    "\n",
    "numero = 1\n",
    "\n",
    "while numero < 100:\n",
    "    print (numero)\n",
    "    if numero ==5:\n",
    "        break\n",
    "        \n",
    "    numero += 1\n",
    "\n"
   ]
  },
  {
   "cell_type": "code",
   "execution_count": null,
   "id": "b38992b4-ed7b-4fc8-a6d1-a8f83015a427",
   "metadata": {},
   "outputs": [],
   "source": []
  },
  {
   "cell_type": "code",
   "execution_count": 21,
   "id": "72a65869-a3fc-4458-a074-c79abc00951e",
   "metadata": {},
   "outputs": [
    {
     "name": "stdout",
     "output_type": "stream",
     "text": [
      "Linha 0  - Coluna 0\n",
      "Linha 0  - Coluna 1\n",
      "Linha 0  - Coluna 2\n",
      "Linha 0  - Coluna 3\n",
      "Linha 1  - Coluna 0\n",
      "Linha 1  - Coluna 1\n",
      "Linha 1  - Coluna 2\n",
      "Linha 1  - Coluna 3\n",
      "Linha 2  - Coluna 0\n",
      "Linha 2  - Coluna 1\n",
      "Linha 2  - Coluna 2\n",
      "Linha 2  - Coluna 3\n"
     ]
    }
   ],
   "source": [
    "# Exemplo 05\n",
    "\n",
    "linha = 0\n",
    "while linha < 3:\n",
    "    \n",
    "    coluna = 0\n",
    "    while coluna <= 3:\n",
    "    \n",
    "        print(\"Linha\", linha, \" - Coluna\", coluna)\n",
    "        \n",
    "        coluna += 1\n",
    "    \n",
    "    linha += 1"
   ]
  },
  {
   "cell_type": "code",
   "execution_count": 5,
   "id": "eb72847f-64a4-4326-b3ae-307e4ce11903",
   "metadata": {},
   "outputs": [
    {
     "name": "stdin",
     "output_type": "stream",
     "text": [
      "Digite um número maior que 1:  6\n"
     ]
    },
    {
     "name": "stdout",
     "output_type": "stream",
     "text": [
      "1\n",
      "2\n",
      "3\n",
      "4\n",
      "5\n",
      "6\n"
     ]
    }
   ],
   "source": [
    "# Exemplo 06\n",
    "\n",
    "num_inicial = 1\n",
    "num_final = int(input(\"Digite um número maior que 1: \"))\n",
    "\n",
    "while num_inicial <= num_final:\n",
    "    print(num_inicial)\n",
    "    num_inicial += 1\n",
    "    "
   ]
  },
  {
   "cell_type": "code",
   "execution_count": 3,
   "id": "6f7880fd-a0ec-4a92-b747-a66d814657ed",
   "metadata": {},
   "outputs": [
    {
     "name": "stdin",
     "output_type": "stream",
     "text": [
      "Digite um número inteiro maior que 1: 20\n"
     ]
    },
    {
     "name": "stdout",
     "output_type": "stream",
     "text": [
      "\n",
      "Números pares entre 1 e 20 :\n",
      "0 2 4 6 8 10 12 14 16 18 20 "
     ]
    }
   ],
   "source": [
    "# Exemplo 07\n",
    "\n",
    "numero = 0\n",
    "max = int(input(\"Digite um número inteiro maior que 1:\"))\n",
    "print()\n",
    "print (\"Números pares entre 1 e\", max, \":\")\n",
    "\n",
    "while numero <= max:\n",
    "    if numero % 2 == 0:\n",
    "        print(numero, end = \" \")\n",
    "\n",
    "    numero += 1"
   ]
  },
  {
   "cell_type": "code",
   "execution_count": 9,
   "id": "50801564-ab88-4882-84d0-9fee2d1c960a",
   "metadata": {},
   "outputs": [
    {
     "name": "stdin",
     "output_type": "stream",
     "text": [
      "Insira a senha de 4 dígitos, utilizando número de 1 a 10: 1234\n"
     ]
    },
    {
     "name": "stdout",
     "output_type": "stream",
     "text": [
      "Senha correta. Acesso permitido!\n"
     ]
    }
   ],
   "source": [
    "# Exercícios 01 - \"Crie um algoritimo e peça para o usuário adivinhar a senha\"\n",
    "\n",
    "senha = 1234\n",
    "guess = int(input(\"Insira a senha de 4 dígitos, utilizando número de 1 a 10:\"))\n",
    "\n",
    "while guess != senha:\n",
    "    print (\"Senha incorreta. Tente novamente.\")\n",
    "    guess = int(input(\"\\nInsira a senha de 4 dígitos, utilizando número de 1 a 10:\"))\n",
    "\n",
    "else:\n",
    "    print (\"Senha correta. Acesso permitido!\")"
   ]
  },
  {
   "cell_type": "code",
   "execution_count": null,
   "id": "0e4160e1-1394-4a58-9415-6390530c662e",
   "metadata": {},
   "outputs": [],
   "source": []
  },
  {
   "cell_type": "code",
   "execution_count": 15,
   "id": "718ecbec-9b79-41cf-9474-46339b7cd4a0",
   "metadata": {},
   "outputs": [
    {
     "name": "stdin",
     "output_type": "stream",
     "text": [
      "Digite SAIR para encerrar: aaa\n",
      "Digite SAIR para encerrar: aaa\n",
      "Digite SAIR para encerrar: aaa\n",
      "Digite SAIR para encerrar: saur\n",
      "Digite SAIR para encerrar: sair\n",
      "Digite SAIR para encerrar: SAIR\n"
     ]
    }
   ],
   "source": [
    "# While True cria - Repete um bloco de código indefinidamente (a menos que você useo break)\n",
    "\n",
    "# Exemplo 01\n",
    "\n",
    "while True:\n",
    "    usuario = input (\"Digite SAIR para encerrar:\")\n",
    "    if usuario == \"SAIR\":\n",
    "        break\n",
    "        "
   ]
  },
  {
   "cell_type": "code",
   "execution_count": null,
   "id": "4e076c9d-53f1-4043-8b43-0803c295131b",
   "metadata": {},
   "outputs": [
    {
     "name": "stdin",
     "output_type": "stream",
     "text": [
      "Digite seu palpite: 12\n"
     ]
    },
    {
     "name": "stdout",
     "output_type": "stream",
     "text": [
      "O número secreto é MAIOR. Tente novamente!\n"
     ]
    },
    {
     "name": "stdin",
     "output_type": "stream",
     "text": [
      "Digite seu palpite: 50\n"
     ]
    },
    {
     "name": "stdout",
     "output_type": "stream",
     "text": [
      "O número secreto é MENOR. Tente novamente!\n"
     ]
    },
    {
     "name": "stdin",
     "output_type": "stream",
     "text": [
      "Digite seu palpite: 25\n"
     ]
    },
    {
     "name": "stdout",
     "output_type": "stream",
     "text": [
      "O número secreto é MENOR. Tente novamente!\n"
     ]
    },
    {
     "name": "stdin",
     "output_type": "stream",
     "text": [
      "Digite seu palpite: 20\n"
     ]
    },
    {
     "name": "stdout",
     "output_type": "stream",
     "text": [
      "O número secreto é MAIOR. Tente novamente!\n"
     ]
    },
    {
     "name": "stdin",
     "output_type": "stream",
     "text": [
      "Digite seu palpite: 21\n"
     ]
    },
    {
     "name": "stdout",
     "output_type": "stream",
     "text": [
      "O número secreto é MAIOR. Tente novamente!\n"
     ]
    },
    {
     "name": "stdin",
     "output_type": "stream",
     "text": [
      "Digite seu palpite: 23\n"
     ]
    },
    {
     "name": "stdout",
     "output_type": "stream",
     "text": [
      "O número secreto é MAIOR. Tente novamente!\n"
     ]
    },
    {
     "name": "stdin",
     "output_type": "stream",
     "text": [
      "Digite seu palpite: 24\n"
     ]
    },
    {
     "name": "stdout",
     "output_type": "stream",
     "text": [
      "Parabéns! Você acertou o número secreto em 7 tentativas.\n"
     ]
    },
    {
     "name": "stdin",
     "output_type": "stream",
     "text": [
      "Digite seu palpite: 25\n"
     ]
    },
    {
     "name": "stdout",
     "output_type": "stream",
     "text": [
      "O número secreto é MENOR. Tente novamente!\n"
     ]
    },
    {
     "name": "stdin",
     "output_type": "stream",
     "text": [
      "Digite seu palpite: 24\n"
     ]
    },
    {
     "name": "stdout",
     "output_type": "stream",
     "text": [
      "Parabéns! Você acertou o número secreto em 9 tentativas.\n"
     ]
    },
    {
     "name": "stdin",
     "output_type": "stream",
     "text": [
      "Digite seu palpite: 24\n"
     ]
    },
    {
     "name": "stdout",
     "output_type": "stream",
     "text": [
      "Parabéns! Você acertou o número secreto em 10 tentativas.\n"
     ]
    },
    {
     "name": "stdin",
     "output_type": "stream",
     "text": [
      "Digite seu palpite: 24\n"
     ]
    }
   ],
   "source": [
    "# Exemplo 02\n",
    "\n",
    "import random\n",
    "\n",
    "numero_sec = random.randint(1, 100)\n",
    "tentativas = 0\n",
    "\n",
    "while True:\n",
    "    palpite = int(input(\"Digite seu palpite:\"))\n",
    "    tentativas += 1\n",
    "    \n",
    "    if palpite < numero_sec:\n",
    "        print (\"O número secreto é MAIOR. Tente novamente!\")\n",
    "    \n",
    "    elif palpite > numero_sec:\n",
    "        print (\"O número secreto é MENOR. Tente novamente!\")\n",
    "\n",
    "    else:\n",
    "        print (f\"Parabéns! Você acertou o número secreto em {tentativas} tentativas.\")\n",
    "        break"
   ]
  },
  {
   "cell_type": "code",
   "execution_count": null,
   "id": "b09b023a-b0d8-4f97-b1d4-2950439a54e2",
   "metadata": {},
   "outputs": [],
   "source": []
  },
  {
   "cell_type": "code",
   "execution_count": 1,
   "id": "a824a39c-5e65-4d50-aef4-cf0c853054b3",
   "metadata": {},
   "outputs": [
    {
     "name": "stdin",
     "output_type": "stream",
     "text": [
      "Digite os número que deseja somar. Ao término digite 0 para sair: 15\n",
      "Digite os número que deseja somar. Ao término digite 0 para sair: 15\n",
      "Digite os número que deseja somar. Ao término digite 0 para sair: 0\n"
     ]
    },
    {
     "name": "stdout",
     "output_type": "stream",
     "text": [
      "Valor final: 30\n"
     ]
    }
   ],
   "source": [
    "# Exercício 02 - \"Crie um algoritimo que leia n números inteiros digitados pelo usuário, e só pare \n",
    "# quando o usuário digitar 0.\"\n",
    "\n",
    "soma_digitados = 0\n",
    "n_numeros = int(input(\"Digite os número que deseja somar. Ao término digite 0 para sair:\"))\n",
    "\n",
    "while n_numeros != 0:\n",
    "    soma_digitados += n_numeros\n",
    "    n_numeros = int(input(\"Digite os número que deseja somar. Ao término digite 0 para sair:\"))\n",
    "\n",
    "print (\"Valor final:\", soma_digitados)"
   ]
  },
  {
   "cell_type": "code",
   "execution_count": 1,
   "id": "1043694c-bc89-4e31-a597-eb0ebc0d2495",
   "metadata": {},
   "outputs": [
    {
     "name": "stdin",
     "output_type": "stream",
     "text": [
      "Digite um numero INTEIRO e maior que ZERO. Ao término digite um numero > 0 para sair: 1\n",
      "Digite um numero INTEIRO e maior que ZERO. Ao término digite um numero > 0 para sair: 50\n",
      "Digite um numero INTEIRO e maior que ZERO. Ao término digite um numero > 0 para sair: 100\n",
      "Digite um numero INTEIRO e maior que ZERO. Ao término digite um numero > 0 para sair: 15\n",
      "Digite um numero INTEIRO e maior que ZERO. Ao término digite um numero > 0 para sair: 2\n",
      "Digite um numero INTEIRO e maior que ZERO. Ao término digite um numero > 0 para sair: -1\n"
     ]
    },
    {
     "name": "stdout",
     "output_type": "stream",
     "text": [
      "O maior numero digitado é: 100\n"
     ]
    }
   ],
   "source": [
    "# Exercício 03 - \"Crie um algoritimo que leia numeros inteiros positivos digitados \n",
    "# pelo usuário até que o usuário digite um numero menor que 0. No final, imprima o maior numero digitado.\"\n",
    "\n",
    "\n",
    "maior_numero = -1\n",
    "numero_digitado = int(input(\"Digite um numero INTEIRO e maior que ZERO. Ao término digite um numero > 0 para sair:\"))\n",
    "    \n",
    "while numero_digitado >= 0:\n",
    "    if numero_digitado > maior_numero:\n",
    "        maior_numero = numero_digitado\n",
    "    \n",
    "    numero_digitado = int(input(\"Digite um numero INTEIRO e maior que ZERO. Ao término digite um numero > 0 para sair:\"))\n",
    "\n",
    "print (\"O maior numero digitado é:\", maior_numero)"
   ]
  }
 ],
 "metadata": {
  "kernelspec": {
   "display_name": "Python 3 (ipykernel)",
   "language": "python",
   "name": "python3"
  },
  "language_info": {
   "codemirror_mode": {
    "name": "ipython",
    "version": 3
   },
   "file_extension": ".py",
   "mimetype": "text/x-python",
   "name": "python",
   "nbconvert_exporter": "python",
   "pygments_lexer": "ipython3",
   "version": "3.12.4"
  }
 },
 "nbformat": 4,
 "nbformat_minor": 5
}
