{
 "cells": [
  {
   "cell_type": "code",
   "execution_count": 21,
   "id": "d7a0a379-69cb-41ce-9095-31bfc161ccea",
   "metadata": {},
   "outputs": [
    {
     "name": "stdout",
     "output_type": "stream",
     "text": [
      "x:5, y:15\n",
      "x:6, y:14\n",
      "x:7, y:13\n",
      "x:8, y:12\n",
      "x:9, y:11\n",
      "Loop concluído com sucesso.\n",
      "Valores finais de x:10 e y:10\n"
     ]
    }
   ],
   "source": [
    "# While usando uma condição complexa\n",
    "# Exemplo 01\n",
    "\n",
    "x, y = 5, 15\n",
    "\n",
    "while x < 10 and y > 10:\n",
    "    print (f\"x:{x}, y:{y}\")\n",
    "\n",
    "    x += 1\n",
    "    y -= 1\n",
    "\n",
    "print (\"Loop concluído com sucesso.\")\n",
    "print (f\"Valores finais de x:{x} e y:{y}\")"
   ]
  },
  {
   "cell_type": "code",
   "execution_count": null,
   "id": "bf2534ee-a061-403d-a56b-614808cf75a7",
   "metadata": {},
   "outputs": [],
   "source": []
  },
  {
   "cell_type": "code",
   "execution_count": 35,
   "id": "09279010-8d37-4e38-ba7a-aef85ec2335f",
   "metadata": {},
   "outputs": [
    {
     "name": "stdout",
     "output_type": "stream",
     "text": [
      "\n",
      "Tentativas restantes:5\n"
     ]
    },
    {
     "name": "stdin",
     "output_type": "stream",
     "text": [
      "\n",
      "Adivinhe o 1º número secreto (1-10): 3\n",
      "Adivinhe o 2º número secreto (1-10): 2\n"
     ]
    },
    {
     "name": "stdout",
     "output_type": "stream",
     "text": [
      "Você errou. Tente novamente!\n",
      "\n",
      "Tentativas restantes:4\n"
     ]
    },
    {
     "name": "stdin",
     "output_type": "stream",
     "text": [
      "\n",
      "Adivinhe o 1º número secreto (1-10): 3\n",
      "Adivinhe o 2º número secreto (1-10): 3\n"
     ]
    },
    {
     "name": "stdout",
     "output_type": "stream",
     "text": [
      "Parabéns! Você adivinhou o 2º número.\n",
      "Você errou. Tente novamente!\n",
      "\n",
      "Tentativas restantes:3\n"
     ]
    },
    {
     "name": "stdin",
     "output_type": "stream",
     "text": [
      "\n",
      "Adivinhe o 1º número secreto (1-10): 4\n",
      "Adivinhe o 2º número secreto (1-10): 4\n"
     ]
    },
    {
     "name": "stdout",
     "output_type": "stream",
     "text": [
      "Você errou. Tente novamente!\n",
      "\n",
      "Tentativas restantes:2\n"
     ]
    },
    {
     "name": "stdin",
     "output_type": "stream",
     "text": [
      "\n",
      "Adivinhe o 1º número secreto (1-10): 7\n",
      "Adivinhe o 2º número secreto (1-10): 7\n"
     ]
    },
    {
     "name": "stdout",
     "output_type": "stream",
     "text": [
      "Parabéns! Você adivinhou o 1º número.\n",
      "\n",
      "Parabéns! Você adivinhou ambos os números.\n"
     ]
    }
   ],
   "source": [
    "# Exemplo 02\n",
    "\n",
    "numero_sec01 = 7\n",
    "numero_sec02 = 3\n",
    "\n",
    "tentativas = 5\n",
    "\n",
    "adivinhou01 = False\n",
    "adivinhou02 = False \n",
    "\n",
    "while tentativas > 0 and (not adivinhou01 or not adivinhou02):\n",
    "\n",
    "    print (f\"\\nTentativas restantes:{tentativas}\")\n",
    "\n",
    "    palpite01 = int(input(\"\\nAdivinhe o 1º número secreto (1-10):\"))\n",
    "    palpite02 = int(input(\"Adivinhe o 2º número secreto (1-10):\"))\n",
    "\n",
    "    if palpite01 == numero_sec01:\n",
    "        print (\"Parabéns! Você adivinhou o 1º número.\")\n",
    "        adivinhou01 = True\n",
    "\n",
    "    if palpite02 == numero_sec02:\n",
    "        print (\"Parabéns! Você adivinhou o 2º número.\")\n",
    "        adivinhou02 = True\n",
    "\n",
    "    if not adivinhou01 or not adivinhou02:\n",
    "        print (\"Você errou. Tente novamente!\")\n",
    "        tentativas -= 1\n",
    "\n",
    "if adivinhou01 and adivinhou02:\n",
    "    print(\"\\nParabéns! Você adivinhou ambos os números.\")\n",
    "\n",
    "else:\n",
    "    print(f\"Você não conseguiu advinhar os números secretos {numero_sec01} e {numero_sec02}.\")"
   ]
  }
 ],
 "metadata": {
  "kernelspec": {
   "display_name": "Python 3 (ipykernel)",
   "language": "python",
   "name": "python3"
  },
  "language_info": {
   "codemirror_mode": {
    "name": "ipython",
    "version": 3
   },
   "file_extension": ".py",
   "mimetype": "text/x-python",
   "name": "python",
   "nbconvert_exporter": "python",
   "pygments_lexer": "ipython3",
   "version": "3.12.4"
  }
 },
 "nbformat": 4,
 "nbformat_minor": 5
}
