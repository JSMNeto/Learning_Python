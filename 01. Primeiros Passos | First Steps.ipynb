{
 "cells": [
  {
   "cell_type": "code",
   "execution_count": 25,
   "id": "98c6ea61-670b-4bc0-8d64-e645cba1d70a",
   "metadata": {},
   "outputs": [
    {
     "name": "stdout",
     "output_type": "stream",
     "text": [
      "A soma de Idade + Saldo é de: 125.5\n",
      "\n",
      "A média das 3 notas é: 7.57\n"
     ]
    }
   ],
   "source": [
    "# Exercício de Variáveis Python\n",
    "\n",
    "idade = 25\n",
    "nome = \"João\"\n",
    "saldo = 100.50\n",
    "soma = idade + saldo\n",
    "print(\"A soma de Idade + Saldo é de:\", soma)\n",
    "print ()\n",
    "\n",
    "nota1 = 7.5\n",
    "nota2 = 8.3\n",
    "nota3 = 6.9\n",
    "media = (nota1 + nota2 + nota3) / 3\n",
    "print (\"A média das 3 notas é:\", format(media, \".2f\"))"
   ]
  },
  {
   "cell_type": "code",
   "execution_count": null,
   "id": "479d8d40-9ff5-4751-96a3-a70b7cfcf6d3",
   "metadata": {},
   "outputs": [],
   "source": []
  },
  {
   "cell_type": "code",
   "execution_count": 29,
   "id": "32878feb-6f01-46da-95d9-06d73aa31ab1",
   "metadata": {},
   "outputs": [
    {
     "name": "stdin",
     "output_type": "stream",
     "text": [
      "A tabuada de qual número você deseja ver? 5\n"
     ]
    },
    {
     "name": "stdout",
     "output_type": "stream",
     "text": [
      "5 * 1 = 5\n",
      "5 * 2 = 10\n",
      "5 * 3 = 15\n",
      "5 * 4 = 20\n",
      "5 * 5 = 25\n",
      "5 * 6 = 30\n",
      "5 * 7 = 35\n",
      "5 * 8 = 40\n",
      "5 * 9 = 45\n",
      "5 * 10 = 50\n"
     ]
    }
   ],
   "source": [
    "# Exercícios INPUT\n",
    "\n",
    "nDigitado = int(input(\"A tabuada de qual número você deseja ver?\"))\n",
    "print (nDigitado, \"* 1 =\" , nDigitado * 1)\n",
    "print (nDigitado, \"* 2 =\" , nDigitado * 2)\n",
    "print (nDigitado, \"* 3 =\" , nDigitado * 3)\n",
    "print (nDigitado, \"* 4 =\" , nDigitado * 4)\n",
    "print (nDigitado, \"* 5 =\" , nDigitado * 5)\n",
    "print (nDigitado, \"* 6 =\" , nDigitado * 6)\n",
    "print (nDigitado, \"* 7 =\" , nDigitado * 7)\n",
    "print (nDigitado, \"* 8 =\" , nDigitado * 8)\n",
    "print (nDigitado, \"* 9 =\" , nDigitado * 9)\n",
    "print (nDigitado, \"* 10 =\" ,nDigitado * 10)\n"
   ]
  },
  {
   "cell_type": "code",
   "execution_count": null,
   "id": "29bf8360-72b7-4175-995d-f49b8f8103e7",
   "metadata": {},
   "outputs": [],
   "source": []
  },
  {
   "cell_type": "code",
   "execution_count": 33,
   "id": "e1dbf9f0-3549-405c-8a62-85506e3a1a17",
   "metadata": {},
   "outputs": [
    {
     "name": "stdin",
     "output_type": "stream",
     "text": [
      "Que ano você nasceu? 2000\n"
     ]
    },
    {
     "name": "stdout",
     "output_type": "stream",
     "text": [
      "Sua idade é  24\n"
     ]
    }
   ],
   "source": [
    "ano_atual = 2024\n",
    "ano_nascimento = int(input(\"Que ano você nasceu?\"))\n",
    "print(\"Sua idade é \", ano_atual - ano_nascimento) "
   ]
  },
  {
   "cell_type": "code",
   "execution_count": null,
   "id": "6f74ba5b-b681-43be-b73a-86edb8536815",
   "metadata": {},
   "outputs": [],
   "source": []
  },
  {
   "cell_type": "code",
   "execution_count": 35,
   "id": "8a214b7c-473d-45ba-affe-8b96ef7ed80a",
   "metadata": {},
   "outputs": [
    {
     "name": "stdout",
     "output_type": "stream",
     "text": [
      "265\n",
      "0.47755763557543596\n",
      "91\n",
      "\n",
      "Brasília\n",
      "[6, 2, 3, 1, 0, 4, 5, 7, 9, 8]\n",
      "15.236782690177407\n"
     ]
    }
   ],
   "source": [
    "# Número randomicos ou aleatóreos \n",
    "\n",
    "import random\n",
    "print (random.randrange(1, 1000))\n",
    "print (random.random())\n",
    "print (random.randint(1, 100))\n",
    "print ()\n",
    "\n",
    "# Escolha aleatória em uma lista \n",
    "states = [\"Sao Paulo\", \"Brasília\", \"Espirito Santo\", \"Ceará\", \"Rio Grande do Sul\"]\n",
    "print (random.choice(states))\n",
    "\n",
    "numeros = [1, 2, 3, 4, 5, 6, 7, 8, 9, 0]\n",
    "random.shuffle(numeros)\n",
    "print (numeros)\n",
    "print (random.uniform(1.2, 30.6))"
   ]
  },
  {
   "cell_type": "code",
   "execution_count": null,
   "id": "d1118c8a-16c4-43d2-9901-cd6dcceba48f",
   "metadata": {},
   "outputs": [],
   "source": []
  },
  {
   "cell_type": "code",
   "execution_count": 37,
   "id": "25591ef9-340f-4c44-abbf-2513b971b8d6",
   "metadata": {},
   "outputs": [
    {
     "name": "stdout",
     "output_type": "stream",
     "text": [
      "P\n",
      "y\n",
      "h\n",
      "t\n",
      "o\n",
      "n\n",
      "\n",
      " mun\n",
      "Olá, \n",
      "mundo!\n"
     ]
    }
   ],
   "source": [
    "# Imprimindo a posição das letras\n",
    "\n",
    "posica_letra = \"Pyhton\"\n",
    "print (posica_letra [0])\n",
    "print (posica_letra [1])\n",
    "print (posica_letra [2])\n",
    "print (posica_letra [3])\n",
    "print (posica_letra [4])\n",
    "print (posica_letra [5])\n",
    "print ()\n",
    "\n",
    "# Slice - Fatiamento em Python \n",
    "\n",
    "frase = \"Olá, mundo!\"\n",
    "parte = frase[4:8]\n",
    "primeiros = frase[:5]\n",
    "ultimo = frase[-6:]\n",
    "print (parte)\n",
    "print (primeiros)\n",
    "print (ultimo)"
   ]
  },
  {
   "cell_type": "code",
   "execution_count": null,
   "id": "55007602-29b5-4ce3-bc3d-43b08a56bb89",
   "metadata": {},
   "outputs": [],
   "source": []
  },
  {
   "cell_type": "code",
   "execution_count": 1,
   "id": "ac49ad84-f366-4968-90c5-2f85603240dd",
   "metadata": {},
   "outputs": [
    {
     "name": "stdout",
     "output_type": "stream",
     "text": [
      "True\n",
      "\n",
      "\n",
      "Sim, a palavra pertence ao texto.\n"
     ]
    }
   ],
   "source": [
    "# Verificando se a palavra está na frase\n",
    "\n",
    "frase = \"Programar em Python é multo legal!\"\n",
    "print (\"Python\" in frase)\n",
    "print (\"\\n\")\n",
    "       \n",
    "if \"Python\" in frase:\n",
    "    print (\"Sim, a palavra pertence ao texto.\")\n",
    "\n",
    "if \"Carro\" in frase:\n",
    "\n",
    "    print (\"Sim, a palavra pertence ao texto.\")"
   ]
  },
  {
   "cell_type": "code",
   "execution_count": null,
   "id": "665a7e72-e3ff-4874-ae8a-eb6a5d52df7d",
   "metadata": {},
   "outputs": [],
   "source": []
  },
  {
   "cell_type": "code",
   "execution_count": 7,
   "id": "9ff66c8b-0495-49b6-8ae5-a0f0fa95ba07",
   "metadata": {},
   "outputs": [
    {
     "name": "stdout",
     "output_type": "stream",
     "text": [
      "     Programar em Python é multo legal!     \n",
      "Programar em Python é multo legal!\n",
      "Programar em Python é multo legal!\n",
      "\n",
      "\n",
      "['Olá,', 'como', 'vai', 'você?']\n",
      "\n",
      "\n",
      "Olá, como vai você?\n"
     ]
    }
   ],
   "source": [
    "# STRIPS - são usados para remover caracteres ou espaços em branco nas frases\n",
    "frase = \"     Programar em Python é multo legal!     \"\n",
    "frase2 = \"****Programar em Python é multo legal!*****\"\n",
    "print (frase)\n",
    "print (frase.strip())\n",
    "print (frase2.strip(\"*\"))\n",
    "print (\"\\n\")\n",
    "\n",
    "\n",
    "# SPLIT - Utilizado para separar palavras de uma string\n",
    "frase = \"Olá, como vai você?\"\n",
    "palavras = frase.split\n",
    "print (palavras())\n",
    "print (\"\\n\")\n",
    "\n",
    "# JOIN - Método utilizado para unir elementos de uma lista em uma string\n",
    "palavras = ['Olá,', 'como', 'vai', 'você?']\n",
    "frase = \" \".join(palavras)\n",
    "print (frase)"
   ]
  },
  {
   "cell_type": "code",
   "execution_count": null,
   "id": "7603c19c-8192-48c2-8f1c-f17ff8459213",
   "metadata": {},
   "outputs": [],
   "source": []
  },
  {
   "cell_type": "code",
   "execution_count": 126,
   "id": "c0be6494-8d73-4a22-a06f-32f5e98d59de",
   "metadata": {},
   "outputs": [
    {
     "name": "stdout",
     "output_type": "stream",
     "text": [
      "Olá, meu nome é Jorge Neto, tenho 36 anos e minha altura é 1.87cm.\n",
      "\n",
      "\n",
      "OLA, MUNDO!\n",
      "ola mundo!\n",
      "Ola mundo!\n",
      "1\n",
      "OLA amigo!\n"
     ]
    }
   ],
   "source": [
    "# Utilizando o FORMATED STRING\n",
    "\n",
    "nome = \"Jorge Neto\"\n",
    "idade = 36\n",
    "altura = 1.87\n",
    "mensagem = f\"Olá, meu nome é {nome}, tenho {idade} anos e minha altura é {altura}cm.\"\n",
    "print (mensagem)\n",
    "print (\"\\n\")\n",
    "\n",
    "\n",
    "# UPPER / LOWER / CAPITALIZE / COUNT / REPLACE\n",
    "texto = \"OLA, mundo!\"\n",
    "texto_upper = texto.upper()\n",
    "print (texto_upper)\n",
    "\n",
    "texto = \"OLA mundo!\"\n",
    "texto_lower = texto.lower()\n",
    "print (texto_lower)\n",
    "\n",
    "texto = \"OLA mundo!\"\n",
    "texto_capit = texto.capitalize()\n",
    "print (texto_capit)\n",
    "\n",
    "texto = \"OLA mundo!\"\n",
    "texto_oc = texto.count(\"o\")\n",
    "print (texto_oc)\n",
    "\n",
    "texto = \"OLA mundo!\"\n",
    "texto_rep = texto.replace(\"mundo\", \"amigo\")\n",
    "print (texto_rep)"
   ]
  },
  {
   "cell_type": "code",
   "execution_count": null,
   "id": "0b3f9a74-f0ee-4bbc-8848-13de19616ac2",
   "metadata": {},
   "outputs": [],
   "source": []
  },
  {
   "cell_type": "code",
   "execution_count": 77,
   "id": "400761a2-763e-499e-a2f5-0b209c8cc4ea",
   "metadata": {},
   "outputs": [
    {
     "name": "stdout",
     "output_type": "stream",
     "text": [
      "Maria Silva\n",
      "Olá, meu nome é Maria Silva e tenho 30 anos.\n",
      "Olá, meu nome é Maria Silva e tenho 30 anos.\n"
     ]
    }
   ],
   "source": [
    "# Exercícios de revisão 1\n",
    "\n",
    "nome = \"Maria\"\n",
    "sobrenome = \"Silva\"\n",
    "idade = 30\n",
    "nome_completo = nome +\" \"+ sobrenome\n",
    "print (nome_completo)\n",
    "\n",
    "mensagem = f\"Olá, meu nome é {nome_completo} e tenho {idade} anos.\"\n",
    "mensagem2 = \"Olá, meu nome é {} e tenho {} anos.\".format(nome_completo, idade)\n",
    "print (mensagem)\n",
    "print (mensagem2)"
   ]
  },
  {
   "cell_type": "code",
   "execution_count": null,
   "id": "1928c987-3095-4999-b2e5-acfad5ebf01d",
   "metadata": {},
   "outputs": [],
   "source": []
  },
  {
   "cell_type": "code",
   "execution_count": 144,
   "id": "5704220e-694c-46cc-94ad-ff71aa6e77ec",
   "metadata": {},
   "outputs": [
    {
     "name": "stdout",
     "output_type": "stream",
     "text": [
      "A quantidade de caracteres da do texto FRASE é: 59\n",
      "A quantidade de caracteres da do texto FRASE é: 58\n",
      "A primeira palavra do texto FRASE é: Python\n",
      "A primeira palavra do texto FRASE é: Python\n",
      "PYTHON É UMA LINGUAGEM DE PROGRAMAÇÃO PODEROSA E VERSÁTIL.\n",
      "Python é uma linguagem de programação incrivel e versátil.\n"
     ]
    }
   ],
   "source": [
    "# Exercícios de revisão 2\n",
    "\n",
    "frase = \"Python é uma linguagem de programação poderosa e versátil.\"\n",
    "print (\"A quantidade de caracteres da do texto FRASE é:\", frase.count(\"\"))\n",
    "\n",
    "tamanho_frase = len(frase)\n",
    "print (\"A quantidade de caracteres da do texto FRASE é:\", tamanho_frase)\n",
    "\n",
    " \n",
    "palavra = frase[0:6]\n",
    "print (\"A primeira palavra do texto FRASE é:\", palavra)\n",
    "palavra = frase.split()[0]\n",
    "print (\"A primeira palavra do texto FRASE é:\", palavra)\n",
    "\n",
    "\n",
    "frase_up = frase.upper()\n",
    "print (frase_up)\n",
    "\n",
    "frase_rep = frase.replace(\"poderosa\", \"incrivel\")\n",
    "print (frase_rep)"
   ]
  },
  {
   "cell_type": "code",
   "execution_count": null,
   "id": "5d4771ca-131a-4b24-b68d-bd3be27ea823",
   "metadata": {},
   "outputs": [],
   "source": [
    "\n"
   ]
  }
 ],
 "metadata": {
  "kernelspec": {
   "display_name": "Python 3 (ipykernel)",
   "language": "python",
   "name": "python3"
  },
  "language_info": {
   "codemirror_mode": {
    "name": "ipython",
    "version": 3
   },
   "file_extension": ".py",
   "mimetype": "text/x-python",
   "name": "python",
   "nbconvert_exporter": "python",
   "pygments_lexer": "ipython3",
   "version": "3.12.4"
  }
 },
 "nbformat": 4,
 "nbformat_minor": 5
}
