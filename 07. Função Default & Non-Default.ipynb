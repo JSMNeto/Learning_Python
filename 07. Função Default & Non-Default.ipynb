{
 "cells": [
  {
   "cell_type": "code",
   "execution_count": 17,
   "id": "27964ef6-96cc-490d-b9fe-7a0ad8de4aa3",
   "metadata": {},
   "outputs": [
    {
     "name": "stdout",
     "output_type": "stream",
     "text": [
      "5\n",
      "50\n"
     ]
    }
   ],
   "source": [
    "# Criando a Função Defaul de soma\n",
    "# Exemplo 01\n",
    "\n",
    "def soma (a, b):\n",
    "    return a + b\n",
    "\n",
    "resultado = soma (2, 3)   # Saída = 5\n",
    "print(resultado)\n",
    "\n",
    "resultado = soma (13, 37) # Saída = 50\n",
    "print(resultado)\n"
   ]
  },
  {
   "cell_type": "code",
   "execution_count": 15,
   "id": "0ac9557e-c613-41c9-9f07-8944195b6e86",
   "metadata": {},
   "outputs": [],
   "source": []
  },
  {
   "cell_type": "code",
   "execution_count": 23,
   "id": "a2dfb98b-da81-4226-bc29-b89f7160dba3",
   "metadata": {},
   "outputs": [
    {
     "name": "stdin",
     "output_type": "stream",
     "text": [
      "Digite o PRIMEIRO número: 5\n",
      "Digite o SEGUNDO número: 5\n"
     ]
    },
    {
     "name": "stdout",
     "output_type": "stream",
     "text": [
      "A soma é: 10\n"
     ]
    }
   ],
   "source": [
    "# Exemplo 02\n",
    "\n",
    "def soma (a, b):\n",
    "    return a + b\n",
    "\n",
    "numero1 = int(input(\"Digite o PRIMEIRO número:\"))\n",
    "numero2 = int(input(\"Digite o SEGUNDO número:\"))\n",
    "\n",
    "resultado = soma(numero1, numero2)\n",
    "print (\"A soma é:\", resultado)"
   ]
  },
  {
   "cell_type": "code",
   "execution_count": null,
   "id": "f509cbe9-3d4c-4899-bc53-7759d371d795",
   "metadata": {},
   "outputs": [],
   "source": []
  },
  {
   "cell_type": "code",
   "execution_count": 40,
   "id": "51fe1c56-621f-4126-870f-b73fa0164040",
   "metadata": {},
   "outputs": [
    {
     "name": "stdout",
     "output_type": "stream",
     "text": [
      "Olá, Jorge! Bem vindo!\n"
     ]
    }
   ],
   "source": [
    "# Exemplo 03\n",
    "\n",
    "def saudacao(nome):\n",
    "    \n",
    "    print (\"Olá, \" + nome + \"! Bem vindo(a)!\")\n",
    "\n",
    "nome_usuario = \"Jorge\"\n",
    "\n",
    "saudacao (nome_usuario)"
   ]
  },
  {
   "cell_type": "code",
   "execution_count": null,
   "id": "298b9861-ffaa-4770-9ad3-831f2988889f",
   "metadata": {},
   "outputs": [],
   "source": []
  },
  {
   "cell_type": "code",
   "execution_count": 99,
   "id": "0b759da9-df4a-41cf-9756-86e80023d931",
   "metadata": {},
   "outputs": [
    {
     "name": "stdin",
     "output_type": "stream",
     "text": [
      "Qual é o seu nome? 12\n"
     ]
    },
    {
     "name": "stdout",
     "output_type": "stream",
     "text": [
      "Olá, 12! Bem vindo(a) ao nosso programa!\n",
      "O resultado da some é: 7\n"
     ]
    }
   ],
   "source": [
    "# Exemplo 04\n",
    "\n",
    "nome = input(\"Qual é o seu nome?\")\n",
    "def saudacao(nome):\n",
    "    print (\"Olá, \" + nome + \"! Bem vindo(a) ao nosso programa!\")\n",
    "saudacao (nome)\n",
    "\n",
    "def soma (a, b):\n",
    "    return a + b\n",
    "resultado = soma(3, 4)\n",
    "print (\"O resultado da some é:\", resultado)"
   ]
  },
  {
   "cell_type": "code",
   "execution_count": 101,
   "id": "08483c10-a6cb-4ffa-83eb-7d10bee2107e",
   "metadata": {},
   "outputs": [
    {
     "name": "stdout",
     "output_type": "stream",
     "text": [
      "Nome: Jorge\n",
      "Idade: 36\n",
      "Cidade: Santo André\n",
      "\n",
      "Nome: Paola\n",
      "Idade: 27\n",
      "Cidade: Deconhecida\n",
      "\n",
      "Nome: Tiago\n",
      "Idade: Deconhecida\n",
      "Cidade: Deconhecida\n"
     ]
    }
   ],
   "source": [
    "# Argumentos Default e Non-Default\n",
    "# Exemplo 01\n",
    "\n",
    "def exibir_informacoes (nome = \"Deconhecida\", idade = \"Deconhecida\", cidade = \"Deconhecida\"):\n",
    "\n",
    "    print (\"Nome:\", nome)\n",
    "    print (\"Idade:\", idade)\n",
    "    print (\"Cidade:\", cidade)\n",
    "\n",
    "exibir_informacoes (\"Jorge\", 36, \"Santo André\")\n",
    "\n",
    "print()\n",
    "\n",
    "exibir_informacoes (\"Paola\", 27)\n",
    "\n",
    "print()\n",
    "\n",
    "exibir_informacoes (\"Tiago\")"
   ]
  },
  {
   "cell_type": "code",
   "execution_count": null,
   "id": "357575a5-d662-488c-babc-b290b74219c5",
   "metadata": {},
   "outputs": [],
   "source": []
  },
  {
   "cell_type": "code",
   "execution_count": 136,
   "id": "324728fc-6c7d-472f-8097-99791489f384",
   "metadata": {},
   "outputs": [
    {
     "name": "stdout",
     "output_type": "stream",
     "text": [
      "A somatória dos valores é: 136\n"
     ]
    }
   ],
   "source": [
    "# Def com vários Argumentos\n",
    "# Exemplo 01\n",
    "\n",
    "def soma(*args):\n",
    "    resultado = sum(args)\n",
    "    return resultado\n",
    "\n",
    "total = soma (2, 4, 5, 8, 10, 21, 32, 54)\n",
    "print (\"A somatória dos valores é:\", total)"
   ]
  },
  {
   "cell_type": "code",
   "execution_count": null,
   "id": "f67ae2fa-00a0-49fa-b3e0-56b922eec1eb",
   "metadata": {},
   "outputs": [],
   "source": []
  },
  {
   "cell_type": "code",
   "execution_count": 117,
   "id": "fd8ab60f-47d7-406d-b3dc-d4e35cf5d9f8",
   "metadata": {},
   "outputs": [
    {
     "name": "stdout",
     "output_type": "stream",
     "text": [
      "\n"
     ]
    }
   ],
   "source": [
    "\"\"\"\n",
    "Exercício: Função para Calcular Estatísticas de Números\n",
    "\n",
    "Objetivo: Familiarizar com a definição de funções que \n",
    "aceitem um número variável de argumentos usando *args, bem como calcular \n",
    "algumas estatísticas básicas de um conjunto de números.\n",
    "\n",
    "Instruções:\n",
    "\n",
    "    1. Defina uma função chamada estatisticas que aceite \n",
    "    um número variável de argumentos numéricos.\n",
    "    \n",
    "    2. A função deve retornar a média, o maior e o menor número do conjunto.\n",
    "    3. Peça ao usuário para inserir uma sequência de números, separados por espaços.\n",
    "    4. Converta essa entrada do usuário em uma lista de números.\n",
    "    5. Use a função estatisticas para calcular a média, o maior e o menor número da lista.\n",
    "    6. Mostre ao usuário a média, o maior e o menor número.\n",
    "\"\"\"\n",
    "\n",
    "print()"
   ]
  },
  {
   "cell_type": "code",
   "execution_count": 240,
   "id": "359752ef-6a6f-48ed-a1f5-23bfd876e969",
   "metadata": {},
   "outputs": [
    {
     "name": "stdin",
     "output_type": "stream",
     "text": [
      "Digite os números que deseja separados por ESPAÇO: 2 3 4\n"
     ]
    },
    {
     "name": "stdout",
     "output_type": "stream",
     "text": [
      "A MéDIA é: 3.0\n",
      "O MAIOR valor é: 4\n",
      "O MENOR valor é: 2\n"
     ]
    }
   ],
   "source": [
    "def estatisticas (*args):\n",
    "    return sum(args) / len(args), max(args), min(args)\n",
    "\n",
    "numeros = list(map(int, input(\"Digite os números que deseja separados por ESPAÇO:\").split()))\n",
    "\n",
    "media, maior, menor = estatisticas(*numeros)\n",
    "\n",
    "print (f\"A MéDIA é: {media}\")\n",
    "print (f\"O MAIOR valor é: {maior}\")\n",
    "print (f\"O MENOR valor é: {menor}\")"
   ]
  },
  {
   "cell_type": "code",
   "execution_count": null,
   "id": "b40cc2a7-495b-4d39-8693-f0881dccb1b4",
   "metadata": {},
   "outputs": [],
   "source": []
  }
 ],
 "metadata": {
  "kernelspec": {
   "display_name": "Python 3 (ipykernel)",
   "language": "python",
   "name": "python3"
  },
  "language_info": {
   "codemirror_mode": {
    "name": "ipython",
    "version": 3
   },
   "file_extension": ".py",
   "mimetype": "text/x-python",
   "name": "python",
   "nbconvert_exporter": "python",
   "pygments_lexer": "ipython3",
   "version": "3.12.4"
  }
 },
 "nbformat": 4,
 "nbformat_minor": 5
}
