{
 "cells": [
  {
   "cell_type": "code",
   "execution_count": 22,
   "id": "492c7f9e-7de7-4215-90df-bece7fd9e0b5",
   "metadata": {},
   "outputs": [
    {
     "name": "stdout",
     "output_type": "stream",
     "text": [
      "O a variável numero1 é IGUAL que a variável numero2\n"
     ]
    }
   ],
   "source": [
    "# Exemplificando a função If\n",
    "\n",
    "numero1 = 90\n",
    "numero2 = 20\n",
    "\n",
    "if numero1 > numero2:\n",
    "    print (\"O a variável numero1 é IGUAL que a variável numero2\")"
   ]
  },
  {
   "cell_type": "code",
   "execution_count": null,
   "id": "8b2f04ff-4a86-42ba-b0cc-ecb49f96d6b5",
   "metadata": {},
   "outputs": [],
   "source": []
  },
  {
   "cell_type": "code",
   "execution_count": 69,
   "id": "2b43dcd8-c737-4963-98ca-6ccb507ca9f5",
   "metadata": {},
   "outputs": [
    {
     "name": "stdout",
     "output_type": "stream",
     "text": [
      "O a variável numero1 é IGUAL que a variável numero2\n"
     ]
    }
   ],
   "source": [
    "# Exemplificando função if / elif\n",
    "\n",
    "numero1 = 6\n",
    "numero2 = 6\n",
    "\n",
    "if numero1 > numero2:\n",
    "    print (\"O a variável numero1 é MAIOR que a variável numero2\")\n",
    "\n",
    "elif numero1 == numero2:\n",
    "    print (\"O a variável numero1 é IGUAL que a variável numero2\")"
   ]
  },
  {
   "cell_type": "code",
   "execution_count": 102,
   "id": "ee332528-123f-4296-a62e-74eedd01d843",
   "metadata": {},
   "outputs": [
    {
     "name": "stdout",
     "output_type": "stream",
     "text": [
      "O 9 é MAIOR que o 6\n",
      "\n",
      "Ambas as afirmações estão corretas.\n"
     ]
    }
   ],
   "source": [
    "# Exemplificando função if / elif / else / and\n",
    "\n",
    "numero1 = 9\n",
    "numero2 = 6\n",
    "\n",
    "if numero1 > numero2:\n",
    "    print(f\"O {numero1} é MAIOR que o {numero2}\")\n",
    "\n",
    "elif numero1 < numero2:\n",
    "    print(f\"O {numero1} é MENOR que o {numero2}\")\n",
    "\n",
    "else:\n",
    "    print(f\"O {numero1} é IGUAL ao {numero2}\")\n",
    "print()\n",
    "\n",
    "\n",
    "numero3 = 50\n",
    "numero4 = 100\n",
    "numero5 = 200\n",
    "\n",
    "if numero3 < numero5 and numero5 > numero4:\n",
    "    print(\"Ambas as afirmações estão corretas.\")\n"
   ]
  },
  {
   "cell_type": "code",
   "execution_count": null,
   "id": "ce29e1d2-5935-4a97-aa42-c8694a3254ed",
   "metadata": {},
   "outputs": [],
   "source": []
  },
  {
   "cell_type": "code",
   "execution_count": 71,
   "id": "a21d6e7e-203b-4fbc-a284-7894a56bef8f",
   "metadata": {},
   "outputs": [
    {
     "name": "stdin",
     "output_type": "stream",
     "text": [
      "Adivinhe o número secreto numa escala de 1 a 10: 12\n"
     ]
    },
    {
     "name": "stdout",
     "output_type": "stream",
     "text": [
      "Que pena, você errou! Tente novamente.\n"
     ]
    }
   ],
   "source": [
    "# Exercício 1 - \"Adivinhe o número secreto (7)\"\n",
    "\n",
    "num_secreto = 7\n",
    "guess = int(input(\"Adivinhe o número secreto numa escala de 1 a 10:\"))\n",
    "\n",
    "if guess == num_secreto:\n",
    "    print(\"Parabéns!!! Você acertou o número secreto.\")\n",
    "\n",
    "else:\n",
    "    print(\"Que pena, você errou! Tente novamente.\")"
   ]
  },
  {
   "cell_type": "code",
   "execution_count": null,
   "id": "2ee27448-5fe9-46cd-b03b-f9bc59f99a95",
   "metadata": {},
   "outputs": [],
   "source": []
  },
  {
   "cell_type": "code",
   "execution_count": 73,
   "id": "73ad6a3b-5182-4ac2-884d-a8c5a44d6e67",
   "metadata": {},
   "outputs": [
    {
     "name": "stdin",
     "output_type": "stream",
     "text": [
      "Por favor, insira a sua idade:  12\n"
     ]
    },
    {
     "name": "stdout",
     "output_type": "stream",
     "text": [
      "Sinto muito, por ser menor de idade você não é elegível para votar.\n"
     ]
    }
   ],
   "source": [
    "# Exercício 2 - \"Verifique a elegibilidade para votar\"\n",
    "\n",
    "idade_min = 18\n",
    "sua_idade = int(input(\"Por favor, insira a sua idade: \"))\n",
    "\n",
    "if sua_idade > idade_min:\n",
    "    print(\"Obrigado, por confirmar. Pode se direcionar a próxima sala para realizar seu voto.\")\n",
    "                \n",
    "                \n",
    "elif sua_idade < idade_min:\n",
    "    print(\"Sinto muito, por ser menor de idade você não é elegível para votar.\")\n",
    "\n",
    "                "
   ]
  },
  {
   "cell_type": "code",
   "execution_count": null,
   "id": "0fb18c33-a177-44ae-bd8f-0c48e0ea1c85",
   "metadata": {},
   "outputs": [],
   "source": []
  },
  {
   "cell_type": "code",
   "execution_count": 67,
   "id": "d7bc58bf-8aef-4b26-8cd3-a2202b87b44d",
   "metadata": {},
   "outputs": [
    {
     "name": "stdin",
     "output_type": "stream",
     "text": [
      "Por favor, insira a sua idade:  12\n"
     ]
    },
    {
     "name": "stdout",
     "output_type": "stream",
     "text": [
      "Sinto muito, por ser menor de idade você não é elegível para votar.\n"
     ]
    }
   ],
   "source": [
    "# Outra forma de resolver:\n",
    "\n",
    "sua_idade = int(input(\"Por favor, insira a sua idade: \"))\n",
    "\n",
    "if sua_idade >= 18:\n",
    "    print(\"Obrigado, por confirmar. Pode se direcionar a próxima sala para realizar seu voto.\")\n",
    "                \n",
    "                \n",
    "else:\n",
    "    print(\"Sinto muito, por ser menor de idade você não é elegível para votar.\")"
   ]
  },
  {
   "cell_type": "code",
   "execution_count": null,
   "id": "1d4c9c17-ac0c-4484-a293-e8dbfc93e643",
   "metadata": {},
   "outputs": [],
   "source": []
  },
  {
   "cell_type": "code",
   "execution_count": 140,
   "id": "1dfb73ab-8082-4d6c-bb75-eb1a572872ae",
   "metadata": {},
   "outputs": [
    {
     "name": "stdin",
     "output_type": "stream",
     "text": [
      "Insira aqui a sua nota (entre 0 e 100): 5.2\n"
     ]
    },
    {
     "name": "stdout",
     "output_type": "stream",
     "text": [
      "Insuficiente.\n"
     ]
    }
   ],
   "source": [
    "# Exercício 3 - \"Classificação de notas\"\n",
    "\n",
    "nota_estudante = float(input(\"Insira aqui a sua nota (entre 0 e 100):\"))\n",
    "\n",
    "if nota_estudante >= 90 and nota_estudante <= 100:\n",
    "    print(\"Excelente!\")\n",
    "\n",
    "elif nota_estudante >= 70 and nota_estudante <= 89:\n",
    "    print(\"Bom.\")\n",
    "\n",
    "elif nota_estudante >= 50 and nota_estudante <= 69:\n",
    "    print(\"Satisfatório.\")\n",
    "\n",
    "elif nota_estudante >= 0 and nota_estudante <= 49:\n",
    "    print(\"Insuficiente.\")\n",
    "\n",
    "else:\n",
    "    print(\"ERROR\")"
   ]
  },
  {
   "cell_type": "code",
   "execution_count": 1,
   "id": "aa480800-3d6c-498d-afb2-d74ae640629d",
   "metadata": {},
   "outputs": [
    {
     "name": "stdin",
     "output_type": "stream",
     "text": [
      "Insira o valor da sua compra: R$ 2000\n"
     ]
    },
    {
     "name": "stdout",
     "output_type": "stream",
     "text": [
      "\n",
      "Parabéns, você tem direito a 20% de desconto!\n",
      "O valor do seu desconto é de: R$400.00\n",
      "O valor final a ser pago é de: R$1600.00\n"
     ]
    }
   ],
   "source": [
    "# Exercício 4 - \"Calculadora de descontos\"\n",
    "\n",
    "valor_compra = float(input(\"Insira o valor da sua compra: R$\"))\n",
    "print()\n",
    "\n",
    "if valor_compra >= 1000:\n",
    "    desconto = 0.20 * valor_compra\n",
    "    print(\"Parabéns, você tem direito a 20% de desconto!\")\n",
    "\n",
    "elif valor_compra >= 500 and valor_compra <= 999:\n",
    "    desconto = 0.10 * valor_compra\n",
    "    print(\"Parabéns, você tem direito a 10% de desconto!\")\n",
    "\n",
    "else:\n",
    "    desconto = 0\n",
    "    print(\"Os descontos são aplicados apenas a compras acima de R$500.00\")\n",
    "\n",
    "valor_final = valor_compra - desconto\n",
    "\n",
    "print (f\"O valor do seu desconto é de: R${desconto:.2f}\")\n",
    "print (f\"O valor final a ser pago é de: R${valor_final:.2f}\")"
   ]
  },
  {
   "cell_type": "code",
   "execution_count": null,
   "id": "e98e02d8-c5b9-455d-92b0-824236128d9e",
   "metadata": {},
   "outputs": [],
   "source": []
  },
  {
   "cell_type": "code",
   "execution_count": 16,
   "id": "5b0365a6-ca09-4dfa-abf2-750e88b517d4",
   "metadata": {},
   "outputs": [
    {
     "name": "stdout",
     "output_type": "stream",
     "text": [
      "O numero 20 é MAIOR que o numero 35? \n",
      "Ou \n",
      "O numero 20 é MAIOR que o numero 12?\n"
     ]
    }
   ],
   "source": [
    "# Exemplificando função if + or\n",
    "\n",
    "numero1 = 20\n",
    "numero2 = 35\n",
    "numero3 = 12\n",
    "\n",
    "if numero1 > numero2 or numero1 > numero3:\n",
    "    print (f\"O numero {numero1} é MAIOR que o numero {numero2}? \\nOu \\nO numero {numero1} é MAIOR que o numero {numero3}?\") \n"
   ]
  },
  {
   "cell_type": "code",
   "execution_count": 88,
   "id": "4025a00a-9bdb-4736-9feb-1daf8f9a7e13",
   "metadata": {},
   "outputs": [
    {
     "name": "stdin",
     "output_type": "stream",
     "text": [
      "Você possui um convite VIP? (Sim/Não) asd\n",
      "Seu nome está na lista? (Sim/Não) asd\n",
      "Você é membro do clube? (Sim/Não) asd\n"
     ]
    },
    {
     "name": "stdout",
     "output_type": "stream",
     "text": [
      "Sinto muito, você não está autorizado a entrar no evento.\n"
     ]
    }
   ],
   "source": [
    "# Exercício - \"Entrada para evento Exclusivo\"\n",
    "\n",
    "convite = input(\"Você possui um convite VIP? (Sim/Não)\")\n",
    "lista = input (\"Seu nome está na lista? (Sim/Não)\")\n",
    "membro = input (\"Você é membro do clube? (Sim/Não)\")\n",
    "\n",
    "resposta = \"Sim\"\n",
    "\n",
    "if convite == resposta or lista == resposta or membro == resposta:\n",
    "    print(\"Ok, você está autorizado a entrar. Bem vindo ao evento!\")\n",
    "\n",
    "else:\n",
    "    print(\"Sinto muito, você não está autorizado a entrar no evento.\")\n"
   ]
  },
  {
   "cell_type": "code",
   "execution_count": 102,
   "id": "0f6ad2ea-340b-46ca-a7d8-dc427ad6e4ea",
   "metadata": {},
   "outputs": [
    {
     "name": "stdin",
     "output_type": "stream",
     "text": [
      "Olá! Por favor escolha um numero POSITIVO e INTEIRO: 14\n"
     ]
    },
    {
     "name": "stdout",
     "output_type": "stream",
     "text": [
      "O numero 14 é PAR.\n"
     ]
    }
   ],
   "source": [
    "# Exercício - \"Par ou Impar\"\n",
    "\n",
    "numero = int(input(\"Olá! Por favor escolha um numero POSITIVO e INTEIRO:\"))\n",
    "\n",
    "verif_numero = numero % 2\n",
    "\n",
    "if verif_numero == 0:\n",
    "    print(f\"O numero {numero} é PAR.\")\n",
    "else:\n",
    "    print(f\"O numero {numero} é IMPAR.\")"
   ]
  },
  {
   "cell_type": "code",
   "execution_count": null,
   "id": "6b49eb0f-f74b-459e-bda0-a6e4ea88f25b",
   "metadata": {},
   "outputs": [],
   "source": []
  },
  {
   "cell_type": "code",
   "execution_count": 109,
   "id": "2529f33b-3abd-4f11-824e-af01ed438203",
   "metadata": {},
   "outputs": [
    {
     "name": "stdout",
     "output_type": "stream",
     "text": [
      "Adulto.\n"
     ]
    }
   ],
   "source": [
    "# Estrutura Condicional Ternária\n",
    "\n",
    "idade = 18\n",
    "status = \"Adulto.\" if idade >= 18 else \"Menor de idade.\"\n",
    "print(status)"
   ]
  },
  {
   "cell_type": "code",
   "execution_count": 128,
   "id": "67a84bd4-28e0-432f-8785-a702b4672015",
   "metadata": {},
   "outputs": [
    {
     "name": "stdin",
     "output_type": "stream",
     "text": [
      "Olá! Por favor escolha um numero INTEIRO: 3\n"
     ]
    },
    {
     "name": "stdout",
     "output_type": "stream",
     "text": [
      "O número escolhido é IMPAR.\n"
     ]
    }
   ],
   "source": [
    "# Exercício PAR ou IMPAR na condição Ternária\n",
    "\n",
    "numero = int(input(\"Olá! Por favor escolha um numero INTEIRO:\"))\n",
    "\n",
    "verif_numero = numero % 2\n",
    "\n",
    "final = \"O número escolhido é PAR.\" if verif_numero == 0 else \"O número escolhido é IMPAR.\" \n",
    "print (final)"
   ]
  },
  {
   "cell_type": "code",
   "execution_count": 146,
   "id": "e9a743b4-e804-45f4-90aa-a68e35d825f5",
   "metadata": {},
   "outputs": [
    {
     "name": "stdin",
     "output_type": "stream",
     "text": [
      "Por favor, insira sua pontuação: 23\n"
     ]
    },
    {
     "name": "stdout",
     "output_type": "stream",
     "text": [
      "Sua pontuação é BAIXA.\n"
     ]
    }
   ],
   "source": [
    "# Exercício \"Pontuação Baixa, Média e Alta\"\n",
    "\n",
    "pontuacao = float(input(\"Por favor, insira sua pontuação:\"))\n",
    "\n",
    "p1 = \"Sua pontuação é BAIXA.\" if pontuacao < 50 else \"Sua pontuação é MEDIA.\" if pontuacao < 80 else \"Sua pontuação é ALTA.\"\n",
    "print(p1)"
   ]
  }
 ],
 "metadata": {
  "kernelspec": {
   "display_name": "Python 3 (ipykernel)",
   "language": "python",
   "name": "python3"
  },
  "language_info": {
   "codemirror_mode": {
    "name": "ipython",
    "version": 3
   },
   "file_extension": ".py",
   "mimetype": "text/x-python",
   "name": "python",
   "nbconvert_exporter": "python",
   "pygments_lexer": "ipython3",
   "version": "3.12.4"
  }
 },
 "nbformat": 4,
 "nbformat_minor": 5
}
