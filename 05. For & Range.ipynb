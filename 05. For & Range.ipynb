{
 "cells": [
  {
   "cell_type": "code",
   "execution_count": 29,
   "id": "c7a30e39-ada9-4327-979e-0005e5372d0f",
   "metadata": {},
   "outputs": [
    {
     "name": "stdout",
     "output_type": "stream",
     "text": [
      "1\n",
      "2\n",
      "3\n",
      "4\n",
      "5\n",
      "6\n",
      "7\n",
      "8\n",
      "9\n",
      "10\n",
      "\n",
      "10\n",
      "9\n",
      "8\n",
      "7\n",
      "6\n",
      "5\n",
      "4\n",
      "3\n",
      "2\n",
      "1\n",
      "\n",
      "2\n",
      "4\n",
      "6\n",
      "8\n",
      "10\n"
     ]
    }
   ],
   "source": [
    "# For cria um laço de repetição \n",
    "# Range imprime número inteiros\n",
    "# Exemplo 01\n",
    "for numeros in range (1,11):\n",
    "    print(numeros)\n",
    "\n",
    "print ()\n",
    "\n",
    "# Exemplo 02:\n",
    "for i in range (10, 0, -1):\n",
    "    print(i)\n",
    "\n",
    "print ()\n",
    "\n",
    "# Exemplo 03:\n",
    "for i in range (2, 12, 2):\n",
    "    print(i)"
   ]
  },
  {
   "cell_type": "code",
   "execution_count": 39,
   "id": "28ee18b5-3a08-4ae4-9f52-79af2a85d730",
   "metadata": {},
   "outputs": [
    {
     "name": "stdout",
     "output_type": "stream",
     "text": [
      "Número impar atual:1\n",
      "Número impar atual:3\n",
      "Número impar atual:5\n",
      "Número impar atual:7\n",
      "Número impar atual:9\n",
      "\n",
      "A soma dos numeros impares de 1 a 10 é: 25\n"
     ]
    }
   ],
   "source": [
    "# Exemplo 04\n",
    "\n",
    "soma = 0\n",
    "\n",
    "for i in range (1, 11, 2):\n",
    "    print(f\"Número impar atual:{i}\")\n",
    "    soma += i\n",
    "\n",
    "print (f\"\\nA soma dos numeros impares de 1 a 10 é: {soma}\")"
   ]
  },
  {
   "cell_type": "code",
   "execution_count": null,
   "id": "22715c21-b97b-479b-aa70-2dfe43aef2cc",
   "metadata": {},
   "outputs": [],
   "source": []
  },
  {
   "cell_type": "code",
   "execution_count": 44,
   "id": "29dca4a8-3eb7-4077-b263-115340284eb6",
   "metadata": {},
   "outputs": [
    {
     "name": "stdout",
     "output_type": "stream",
     "text": [
      "\n"
     ]
    }
   ],
   "source": [
    "# Exercício 01 - Multiplicação de Números\n",
    "\n",
    "\"\"\"\n",
    "Exercício: Multiplicação de Números\n",
    "\n",
    "Objetivo: Escreva um programa que utilize um loop for para multiplicar os \n",
    "números de 1 a 5 e imprima o resultado de cada etapa e o resultado final.\n",
    "\n",
    "Etapas:\n",
    "\n",
    "    - Utilize um loop for para iterar pelos números de 1 a 5.\n",
    "    - Multiplique cada número pelo resultado anterior (começando por 1).\n",
    "    - Imprima o resultado de cada etapa.\n",
    "    - Imprima o resultado final da multiplicação de todos os números.\n",
    "\n",
    "Saída:\n",
    "\n",
    "Multiplicando por 1, o resultado parcial é 1\n",
    "Multiplicando por 2, o resultado parcial é 2\n",
    "Multiplicando por 3, o resultado parcial é 6\n",
    "Multiplicando por 4, o resultado parcial é 24\n",
    "Multiplicando por 5, o resultado parcial é 120\n",
    "\"\"\"\n",
    "print ()"
   ]
  },
  {
   "cell_type": "code",
   "execution_count": 74,
   "id": "995e9180-41a4-4821-9e59-13112d24d022",
   "metadata": {},
   "outputs": [
    {
     "name": "stdout",
     "output_type": "stream",
     "text": [
      "Multiplicando por 1, o resultado parcial é 1\n",
      "Multiplicando por 2, o resultado parcial é 2\n",
      "Multiplicando por 3, o resultado parcial é 6\n",
      "Multiplicando por 4, o resultado parcial é 24\n",
      "Multiplicando por 5, o resultado parcial é 120\n",
      "O resultado final da multiplicação de 1-5 é 120.\n"
     ]
    }
   ],
   "source": [
    "resultado = 1\n",
    "for numeros in range (1, 6):\n",
    "    resultado *= numeros\n",
    "    print (f\"Multiplicando por {numeros}, o resultado parcial é {resultado}\")\n",
    "\n",
    "print (f\"O resultado final da multiplicação de 1-5 é {resultado}.\")"
   ]
  },
  {
   "cell_type": "code",
   "execution_count": null,
   "id": "577138db-1618-411f-af80-7cb91571e918",
   "metadata": {},
   "outputs": [],
   "source": []
  },
  {
   "cell_type": "code",
   "execution_count": 76,
   "id": "7cccaabc-99ee-461e-9ab5-b3b7d92b4f9b",
   "metadata": {},
   "outputs": [
    {
     "name": "stdout",
     "output_type": "stream",
     "text": [
      "\n"
     ]
    }
   ],
   "source": [
    "# Exercício 02 - Soma de número pares\n",
    "\n",
    "\"\"\"\n",
    "Exercício: Soma de Números Pares\n",
    "\n",
    "Objetivo: Escreva um programa que peça ao usuário um número \n",
    "inteiro N e some todos os números pares de 1 até N, incluindo o próprio N (se for par). \n",
    "\n",
    "Utilize um loop for para esta tarefa.\n",
    "\n",
    "Etapas:\n",
    "\n",
    "    - Solicite ao usuário um número inteiro positivo N.\n",
    "    - Utilize um loop for para iterar de 1 a N e some todos os números pares.\n",
    "    - Imprima o resultado da soma.\n",
    "\n",
    "\n",
    "Exemplo de Saída:\n",
    "\n",
    "Digite um número inteiro positivo: 10\n",
    "A soma dos números pares de 1 até 10 é: 30\n",
    "\"\"\"\n",
    "print()"
   ]
  },
  {
   "cell_type": "code",
   "execution_count": 92,
   "id": "05380cf7-c8d2-4b33-b0ce-23a88288f729",
   "metadata": {},
   "outputs": [
    {
     "name": "stdin",
     "output_type": "stream",
     "text": [
      "Digite um número interio positivo: 8\n"
     ]
    },
    {
     "name": "stdout",
     "output_type": "stream",
     "text": [
      "A soma dos números pares de 1 até 6 é: 12\n"
     ]
    }
   ],
   "source": [
    "numeroN = int(input(\"Digite um número interio positivo:\"))\n",
    "soma = 0\n",
    "\n",
    "for numeroN in range (0, numeroN, 2):\n",
    "    soma += numeroN\n",
    "print (f\"A soma dos números pares de 1 até {numeroN} é: {soma}\")\n"
   ]
  },
  {
   "cell_type": "code",
   "execution_count": 106,
   "id": "2c8b7de5-bb16-4b24-b8c2-eca6ca10b765",
   "metadata": {},
   "outputs": [
    {
     "name": "stdin",
     "output_type": "stream",
     "text": [
      "Digite um número interio positivo: 6\n"
     ]
    },
    {
     "name": "stdout",
     "output_type": "stream",
     "text": [
      "Números: 2 + 0 = 2\n",
      "Números: 4 + 2 = 6\n",
      "Números: 6 + 6 = 12\n",
      "A soma dos números pares de 1 até 6 é  12\n"
     ]
    }
   ],
   "source": [
    "# Metodo utilizado pelo professor\n",
    "\n",
    "N = int(input(\"Digite um número interio positivo:\"))\n",
    "soma_pares = 0\n",
    "\n",
    "for i in range (1, N + 1):\n",
    "    if i % 2 == 0:\n",
    "        print (f\"Números: {i} + {soma_pares} = {i+soma_pares}\")\n",
    "        soma_pares += i\n",
    "\n",
    "print (f\"A soma dos números pares de 1 até {N} é  {soma_pares}\")"
   ]
  }
 ],
 "metadata": {
  "kernelspec": {
   "display_name": "Python 3 (ipykernel)",
   "language": "python",
   "name": "python3"
  },
  "language_info": {
   "codemirror_mode": {
    "name": "ipython",
    "version": 3
   },
   "file_extension": ".py",
   "mimetype": "text/x-python",
   "name": "python",
   "nbconvert_exporter": "python",
   "pygments_lexer": "ipython3",
   "version": "3.12.4"
  }
 },
 "nbformat": 4,
 "nbformat_minor": 5
}
